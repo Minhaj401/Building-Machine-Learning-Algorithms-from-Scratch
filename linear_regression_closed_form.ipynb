{
  "nbformat": 4,
  "nbformat_minor": 0,
  "metadata": {
    "colab": {
      "provenance": []
    },
    "kernelspec": {
      "name": "python3",
      "display_name": "Python 3"
    },
    "language_info": {
      "name": "python"
    }
  },
  "cells": [
    {
      "cell_type": "code",
      "execution_count": null,
      "metadata": {
        "id": "aEkuNsd8DLHy"
      },
      "outputs": [],
      "source": [
        "class linear_reg:\n",
        "  def __init__(self):\n",
        "    self.m=None\n",
        "    self.b=None\n",
        "  def fit(self,x_train,y_train):\n",
        "    num=0\n",
        "    den=0\n",
        "    for i in range(x_train.shape[0]):\n",
        "      num=num+((x_train[i]-x_train.mean())*(y_train[i]-y_train.mean()))\n",
        "      den=den+(x_train[i]-x_train.mean())*(x_train[i]-x_train.mean())\n",
        "    self.m=num/den\n",
        "    self.b=y_train.mean()-(self.m*x_train.mean())\n",
        "    print(self.m)\n",
        "    print(self.b)\n",
        "\n",
        "\n",
        "  def predict(self,x_test):\n",
        "    return self.m*x_test+self.b"
      ]
    },
    {
      "cell_type": "code",
      "source": [
        "import numpy as np\n",
        "import pandas as pd\n"
      ],
      "metadata": {
        "id": "p8Svl0aw23ve"
      },
      "execution_count": null,
      "outputs": []
    },
    {
      "cell_type": "code",
      "source": [
        "df=pd.read_csv(\"/content/placement.csv\")"
      ],
      "metadata": {
        "id": "GbrvFcR62_vM"
      },
      "execution_count": null,
      "outputs": []
    },
    {
      "cell_type": "code",
      "source": [
        "df.head()"
      ],
      "metadata": {
        "id": "SnHUz7r_3W2k"
      },
      "execution_count": null,
      "outputs": []
    },
    {
      "cell_type": "code",
      "source": [
        "x=df.iloc[:,0].values"
      ],
      "metadata": {
        "id": "KPHZ_59H3akU"
      },
      "execution_count": null,
      "outputs": []
    },
    {
      "cell_type": "code",
      "source": [
        "y=df.iloc[:,1].values"
      ],
      "metadata": {
        "id": "BzHlNKkp3j48"
      },
      "execution_count": null,
      "outputs": []
    },
    {
      "cell_type": "code",
      "source": [
        "from sklearn.model_selection import train_test_split\n",
        "x_train,x_test,y_train,y_test=train_test_split(x,y,test_size=0.2,random_state=2)"
      ],
      "metadata": {
        "id": "2WRdXz9U3qTU"
      },
      "execution_count": null,
      "outputs": []
    },
    {
      "cell_type": "code",
      "source": [
        "lr=linear_reg()"
      ],
      "metadata": {
        "id": "oDzHpLtw4X3V"
      },
      "execution_count": null,
      "outputs": []
    },
    {
      "cell_type": "code",
      "source": [
        "lr.fit(x_train,y_train)"
      ],
      "metadata": {
        "id": "rAXcoPD04ywd"
      },
      "execution_count": null,
      "outputs": []
    },
    {
      "cell_type": "code",
      "source": [
        "print(lr.predict(x_test[0]))"
      ],
      "metadata": {
        "id": "rZmcauup7hrD"
      },
      "execution_count": null,
      "outputs": []
    },
    {
      "cell_type": "code",
      "source": [],
      "metadata": {
        "id": "eAZeNAWC8NUc"
      },
      "execution_count": null,
      "outputs": []
    }
  ]
}