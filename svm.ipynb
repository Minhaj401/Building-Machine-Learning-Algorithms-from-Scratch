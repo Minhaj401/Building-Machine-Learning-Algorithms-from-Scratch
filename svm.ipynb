{
  "cells": [
    {
      "cell_type": "code",
      "execution_count": null,
      "id": "d885f089-46c5-4a21-b2a8-16504ade7142",
      "metadata": {
        "id": "d885f089-46c5-4a21-b2a8-16504ade7142"
      },
      "outputs": [],
      "source": [
        "import numpy"
      ]
    },
    {
      "cell_type": "code",
      "execution_count": null,
      "id": "ae326902-2a27-4c51-a14e-2143ee6c0f93",
      "metadata": {
        "id": "ae326902-2a27-4c51-a14e-2143ee6c0f93"
      },
      "outputs": [],
      "source": [
        "class svm:\n",
        "  def __init__(self,learning_rate,no_of_iterations,lambda_parameter):\n",
        "    self.learning_rate=learning_rate\n",
        "    self.no_of_iterations=no_of_iterations\n",
        "    self.lambda_parameter=lambda_parameter\n",
        "  def fit(self):\n",
        "    self.m,self.n=x.shape\n",
        "    self.w=np.zeros(self.n)\n",
        "    self.b=0\n",
        "    for i in range(self.no_of_iterations):\n",
        "      self.update_weights()\n",
        "  def update_weights(self):\n",
        "    y_label=np.where(self.y <=0,-1,1)\n",
        "    for index, x_i in enumerate(self.x):\n",
        "      condition=y_label[index]*(np.dot(x_i,self.w)-self.b)>=1\n",
        "      if condition==True:\n",
        "        dw=2*self.lambda_parameter*self.w\n",
        "        db=0\n",
        "      else:\n",
        "        dw=2*self.lamba_parameter*self.w-np.dot(x)\n",
        "        db=y_label[index]\n",
        "      self.w=self.w-self.learning_rate*dw\n",
        "      self.b=self.b-self.learning_rate*db\n",
        "\n",
        "  def predict(self,):\n",
        "    output=np.dot(x,self.w)-self.b\n",
        "    predicted_label=np.sign(output)\n",
        "    y_hat=np.where(predicted_labels<=-1,0,1)\n",
        "    return y_hat"
      ]
    }
  ],
  "metadata": {
    "kernelspec": {
      "display_name": "Python 3 (ipykernel)",
      "language": "python",
      "name": "python3"
    },
    "language_info": {
      "codemirror_mode": {
        "name": "ipython",
        "version": 3
      },
      "file_extension": ".py",
      "mimetype": "text/x-python",
      "name": "python",
      "nbconvert_exporter": "python",
      "pygments_lexer": "ipython3",
      "version": "3.9.11"
    },
    "colab": {
      "provenance": []
    }
  },
  "nbformat": 4,
  "nbformat_minor": 5
}