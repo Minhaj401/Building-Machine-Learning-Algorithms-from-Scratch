{
  "cells": [
    {
      "cell_type": "code",
      "execution_count": 1,
      "id": "f9147e50",
      "metadata": {
        "id": "f9147e50"
      },
      "outputs": [],
      "source": [
        "import numpy as np"
      ]
    },
    {
      "cell_type": "markdown",
      "id": "386266cd",
      "metadata": {
        "id": "386266cd"
      },
      "source": [
        "linear regression model"
      ]
    },
    {
      "cell_type": "code",
      "execution_count": 2,
      "id": "70fd7cb7-3383-4dce-8cb2-6aec56b857bc",
      "metadata": {
        "id": "70fd7cb7-3383-4dce-8cb2-6aec56b857bc"
      },
      "outputs": [],
      "source": [
        "class linear_regression():\n",
        "    def __init__(self,learning_rate,no_of_iteration):\n",
        "        self.learning_rate=learning_rate\n",
        "        self.no_of_iteration=no_of_iteration\n",
        "\n",
        "    def fit(self,X,Y):\n",
        "        #no of training examples and number of features\n",
        "        self.m ,self.n= X.shape #no of rows and columns\n",
        "        #initiating the weigth and bias\n",
        "        self.w=np.zeros(self.n)\n",
        "        self.b=0\n",
        "        self.X=X\n",
        "        self.Y=Y\n",
        "        #implementing gradient Descent\n",
        "        for i in range (self.no_of_iterations):\n",
        "            self.update_weights()\n",
        "\n",
        "\n",
        "    def update_weigths(self):\n",
        "        Y_prediction=self.predict(self.X)\n",
        "        #calculate the gradient\n",
        "        dw=-(2 *(self.X.T).dot(self.Y-Y_prediction))/self.m\n",
        "        db=-2*np.sum(self.Y - Y_prediction)/self.m\n",
        "        #updating the weights\n",
        "        self.w=self.w -selflearning_rate*dw\n",
        "        self.b=self.b -selflearning_rate*db\n",
        "\n",
        "\n",
        "\n",
        "\n",
        "    def predict(self,X):\n",
        "        return X.dot(self.w)+self.b\n",
        ""
      ]
    },
    {
      "cell_type": "code",
      "source": [],
      "metadata": {
        "id": "Qa8quKrcv0VH"
      },
      "id": "Qa8quKrcv0VH",
      "execution_count": null,
      "outputs": []
    }
  ],
  "metadata": {
    "kernelspec": {
      "display_name": "Python 3 (ipykernel)",
      "language": "python",
      "name": "python3"
    },
    "language_info": {
      "codemirror_mode": {
        "name": "ipython",
        "version": 3
      },
      "file_extension": ".py",
      "mimetype": "text/x-python",
      "name": "python",
      "nbconvert_exporter": "python",
      "pygments_lexer": "ipython3",
      "version": "3.9.11"
    },
    "colab": {
      "provenance": []
    }
  },
  "nbformat": 4,
  "nbformat_minor": 5
}