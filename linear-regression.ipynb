{
 "cells": [
  {
   "cell_type": "code",
   "execution_count": 1,
   "id": "f9147e50",
   "metadata": {},
   "outputs": [],
   "source": [
    "import numpy as np"
   ]
  },
  {
   "cell_type": "markdown",
   "id": "386266cd",
   "metadata": {},
   "source": [
    "linear regression model"
   ]
  },
  {
   "cell_type": "code",
   "execution_count": 1,
   "id": "70fd7cb7-3383-4dce-8cb2-6aec56b857bc",
   "metadata": {},
   "outputs": [
    {
     "ename": "IndentationError",
     "evalue": "expected an indented block (2229251463.py, line 4)",
     "output_type": "error",
     "traceback": [
      "\u001b[1;36m  Cell \u001b[1;32mIn[1], line 4\u001b[1;36m\u001b[0m\n\u001b[1;33m    def fit(self,):\u001b[0m\n\u001b[1;37m    ^\u001b[0m\n\u001b[1;31mIndentationError\u001b[0m\u001b[1;31m:\u001b[0m expected an indented block\n"
     ]
    }
   ],
   "source": [
    "class linear_regression():\n",
    "    def __init__(self,learning_rate,no_of_iteration):\n",
    "        self.learning_rate=learning_rate\n",
    "        self.no_of_iteration=no_of_iteration\n",
    "\n",
    "    def fit(self,X,Y):\n",
    "        #no of training examples and \n",
    "        \n",
    "\n",
    "    def update_weigths(self,):\n",
    "\n",
    "    def predict(self,):\n",
    "        "
   ]
  }
 ],
 "metadata": {
  "kernelspec": {
   "display_name": "Python 3 (ipykernel)",
   "language": "python",
   "name": "python3"
  },
  "language_info": {
   "codemirror_mode": {
    "name": "ipython",
    "version": 3
   },
   "file_extension": ".py",
   "mimetype": "text/x-python",
   "name": "python",
   "nbconvert_exporter": "python",
   "pygments_lexer": "ipython3",
   "version": "3.9.11"
  }
 },
 "nbformat": 4,
 "nbformat_minor": 5
}
