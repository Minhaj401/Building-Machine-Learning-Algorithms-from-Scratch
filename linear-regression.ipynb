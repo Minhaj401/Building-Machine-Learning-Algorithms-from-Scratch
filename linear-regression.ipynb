{
  "cells": [
    {
      "cell_type": "code",
      "execution_count": 18,
      "id": "f9147e50",
      "metadata": {
        "id": "f9147e50"
      },
      "outputs": [],
      "source": [
        "import numpy as np"
      ]
    },
    {
      "cell_type": "markdown",
      "id": "386266cd",
      "metadata": {
        "id": "386266cd"
      },
      "source": [
        "linear regression model"
      ]
    },
    {
      "cell_type": "code",
      "execution_count": 28,
      "id": "70fd7cb7-3383-4dce-8cb2-6aec56b857bc",
      "metadata": {
        "id": "70fd7cb7-3383-4dce-8cb2-6aec56b857bc"
      },
      "outputs": [],
      "source": [
        "class linear_regression():\n",
        "    def __init__(self,learning_rate,no_of_iteration):\n",
        "        self.learning_rate=learning_rate\n",
        "        self.no_of_iteration=no_of_iteration\n",
        "\n",
        "    def fit(self,X,Y):\n",
        "        #no of training examples and number of features\n",
        "        self.m ,self.n= X.shape #no of rows and columns\n",
        "        #initiating the weigth and bias\n",
        "        self.w=np.zeros(self.n)\n",
        "        self.b=0\n",
        "        self.X=X\n",
        "        self.Y=Y\n",
        "        #implementing gradient Descent\n",
        "        for i in range (self.no_of_iteration):\n",
        "            self.update_weights()\n",
        "\n",
        "\n",
        "    def update_weighs(self):\n",
        "        Y_prediction=self.predict(self.X)\n",
        "        #calculate the gradient\n",
        "        dw=-(2 *(self.X.T).dot(self.Y-Y_prediction))/self.m\n",
        "        db=-2*np.sum(self.Y - Y_prediction)/self.m\n",
        "        #updating the weights\n",
        "        self.w=self.w -self.learning_rate*dw\n",
        "        self.b=self.b -self.learning_rate*db\n",
        "\n",
        "\n",
        "\n",
        "\n",
        "    def predict(self,X):\n",
        "        return X.dot(self.w)+self.b\n",
        ""
      ]
    },
    {
      "cell_type": "code",
      "source": [
        "#using linear regression model\n",
        "import pandas as pd\n",
        "import matplotlib.pyplot as plt\n",
        "from sklearn.model_selection import train_test_split"
      ],
      "metadata": {
        "id": "Qa8quKrcv0VH"
      },
      "id": "Qa8quKrcv0VH",
      "execution_count": 29,
      "outputs": []
    },
    {
      "cell_type": "code",
      "source": [
        "#data preprocessing\n",
        "df=pd.read_csv(\"/content/sample_data/salary_data.csv\")\n",
        "df.head()"
      ],
      "metadata": {
        "id": "cpFirU5U2FEc"
      },
      "id": "cpFirU5U2FEc",
      "execution_count": null,
      "outputs": []
    },
    {
      "cell_type": "code",
      "source": [
        "df.shape"
      ],
      "metadata": {
        "id": "KIk6e_UD2i30",
        "outputId": "3472998d-2716-424f-e3dd-0b3f85f0c59c",
        "colab": {
          "base_uri": "https://localhost:8080/"
        }
      },
      "id": "KIk6e_UD2i30",
      "execution_count": 31,
      "outputs": [
        {
          "output_type": "execute_result",
          "data": {
            "text/plain": [
              "(30, 2)"
            ]
          },
          "metadata": {},
          "execution_count": 31
        }
      ]
    },
    {
      "cell_type": "code",
      "source": [
        "df.isnull().sum()"
      ],
      "metadata": {
        "id": "6kXtKV5p3Q-J"
      },
      "id": "6kXtKV5p3Q-J",
      "execution_count": null,
      "outputs": []
    },
    {
      "cell_type": "code",
      "source": [
        "#spitting the feature and target\n",
        "X = df.iloc[:,:-1].values\n",
        "Y=df.iloc[:,1].values\n",
        "print(X)\n",
        "print(Y)"
      ],
      "metadata": {
        "id": "or3xRPSO3uS8"
      },
      "id": "or3xRPSO3uS8",
      "execution_count": null,
      "outputs": []
    },
    {
      "cell_type": "code",
      "source": [
        "x_train,x_test,y_train,y_test=train_test_split(X,Y,test_size=0.33,random_state=2)"
      ],
      "metadata": {
        "id": "hNYJghCw58oV"
      },
      "id": "hNYJghCw58oV",
      "execution_count": 34,
      "outputs": []
    },
    {
      "cell_type": "code",
      "source": [
        "model = linear_regression(learning_rate=0.02,no_of_iteration=1000)"
      ],
      "metadata": {
        "id": "yEJGkhU07ALC"
      },
      "id": "yEJGkhU07ALC",
      "execution_count": 35,
      "outputs": []
    },
    {
      "cell_type": "code",
      "source": [
        "model.fit(x_train,y_train)"
      ],
      "metadata": {
        "id": "7BN7V8dx8L9Z"
      },
      "id": "7BN7V8dx8L9Z",
      "execution_count": 36,
      "outputs": []
    },
    {
      "cell_type": "code",
      "source": [
        "print(\"weight=\",model.w[0])\n",
        "print(\"bias=\",model.b)\n"
      ],
      "metadata": {
        "id": "-G7259OQ8g1j"
      },
      "id": "-G7259OQ8g1j",
      "execution_count": null,
      "outputs": []
    },
    {
      "cell_type": "code",
      "source": [
        "test_data_prediction =model.predict(x_test)"
      ],
      "metadata": {
        "id": "UrC01D-A9xa5"
      },
      "id": "UrC01D-A9xa5",
      "execution_count": 40,
      "outputs": []
    },
    {
      "cell_type": "code",
      "source": [
        "print(test_data_prediction)"
      ],
      "metadata": {
        "id": "YXCV_e4D_7fn"
      },
      "id": "YXCV_e4D_7fn",
      "execution_count": null,
      "outputs": []
    },
    {
      "cell_type": "code",
      "source": [
        "plt.scatter(x_test,y_test,color=\"red\")\n",
        "plt.plot(x_test,test_data_prediction,color=\"blue\")"
      ],
      "metadata": {
        "id": "c4HABQCKAImo",
        "outputId": "50491dc6-0413-451b-de43-064d0074f707",
        "colab": {
          "base_uri": "https://localhost:8080/",
          "height": 447
        }
      },
      "id": "c4HABQCKAImo",
      "execution_count": 42,
      "outputs": [
        {
          "output_type": "execute_result",
          "data": {
            "text/plain": [
              "[<matplotlib.lines.Line2D at 0x79885502ec90>]"
            ]
          },
          "metadata": {},
          "execution_count": 42
        },
        {
          "output_type": "display_data",
          "data": {
            "text/plain": [
              "<Figure size 640x480 with 1 Axes>"
            ],
            "image/png": "[encoded data removed]"
          },
          "metadata": {}
        }
      ]
    },
    {
      "cell_type": "code",
      "source": [],
      "metadata": {
        "id": "rhgRd9JwAnhg"
      },
      "id": "rhgRd9JwAnhg",
      "execution_count": null,
      "outputs": []
    }
  ],
  "metadata": {
    "kernelspec": {
      "display_name": "Python 3 (ipykernel)",
      "language": "python",
      "name": "python3"
    },
    "language_info": {
      "codemirror_mode": {
        "name": "ipython",
        "version": 3
      },
      "file_extension": ".py",
      "mimetype": "text/x-python",
      "name": "python",
      "nbconvert_exporter": "python",
      "pygments_lexer": "ipython3",
      "version": "3.9.11"
    },
    "colab": {
      "provenance": []
    }
  },
  "nbformat": 4,
  "nbformat_minor": 5
}