{
 "cells": [
  {
   "cell_type": "code",
   "execution_count": 1,
   "id": "f9147e50",
   "metadata": {},
   "outputs": [],
   "source": [
    "import numpy as np"
   ]
  },
  {
   "cell_type": "markdown",
   "id": "386266cd",
   "metadata": {},
   "source": [
    "linear regression model"
   ]
  },
  {
   "cell_type": "code",
   "execution_count": 1,
   "id": "70fd7cb7-3383-4dce-8cb2-6aec56b857bc",
   "metadata": {},
   "outputs": [
    {
     "ename": "IndentationError",
     "evalue": "expected an indented block (2229251463.py, line 4)",
     "output_type": "error",
     "traceback": [
      "\u001b[1;36m  Cell \u001b[1;32mIn[1], line 4\u001b[1;36m\u001b[0m\n\u001b[1;33m    def fit(self,):\u001b[0m\n\u001b[1;37m    ^\u001b[0m\n\u001b[1;31mIndentationError\u001b[0m\u001b[1;31m:\u001b[0m expected an indented block\n"
     ]
    }
   ],
   "source": [
    "class linear_regression():\n",
    "    def __init__(self,learning_rate,no_of_iteration):\n",
    "        self.learning_rate=learning_rate\n",
    "        self.no_of_iteration=no_of_iteration\n",
    "\n",
    "    def fit(self,X,Y):\n",
    "        #no of training examples and number of features\n",
    "        self.m ,self.n= X.shape #no of rows and columns\n",
    "        #initiating the weigth and bias\n",
    "        self.w=np.zeros(self.n)\n",
    "        self.b=0\n",
    "        self.X=X\n",
    "        self.Y=Y\n",
    "        #implementing gradient Descent\n",
    "        for i in range (self.no_of_iterations):\n",
    "            self.update_weights()\n",
    "        \n",
    "\n",
    "    def update_weigths(self):\n",
    "        Y_prediction=self.predict(self.X)\n",
    "        #calculate the gradient\n",
    "        dw=-(2 *(self.X.T).dot(self.Y-Y_prediction))/self.m\n",
    "        db=-2*np.sum(self.Y - Y_prediction)/self.m\n",
    "        #updating the weights \n",
    "        self.w=self.w -selflearning_rate*dw\n",
    "        self.b=self.b -selflearning_rate*db\n",
    "        \n",
    "        \n",
    "        \n",
    "\n",
    "    def predict(self,X):\n",
    "        return X.dot(self.w)+self.b\n",
    "        "
   ]
  }
 ],
 "metadata": {
  "kernelspec": {
   "display_name": "Python 3 (ipykernel)",
   "language": "python",
   "name": "python3"
  },
  "language_info": {
   "codemirror_mode": {
    "name": "ipython",
    "version": 3
   },
   "file_extension": ".py",
   "mimetype": "text/x-python",
   "name": "python",
   "nbconvert_exporter": "python",
   "pygments_lexer": "ipython3",
   "version": "3.9.11"
  }
 },
 "nbformat": 4,
 "nbformat_minor": 5
}
